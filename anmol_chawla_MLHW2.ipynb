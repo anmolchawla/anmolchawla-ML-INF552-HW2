{
 "cells": [
  {
   "cell_type": "markdown",
   "metadata": {},
   "source": [
    "# MACHINE LEARNING ASSIGNMENT 2\n",
    "## CLASSIFICATION OF TIME SERIES \n",
    "## CLASSIFY HUMAN ACTIVITIES BASED ON TIME BY DATA OBTAINED BY A WIRELESS ACTIVITIES"
   ]
  },
  {
   "cell_type": "markdown",
   "metadata": {},
   "source": [
    "##  A. DATA OBTAINED FROM : \n",
    "https://archive.ics.uci.edu/ml/datasets/Activity+Recognition+system+based+on+Multisensor+data+fusion+\\%28AReM\\%29 \n",
    "\n",
    "The dataset contains 7 folders that represent seven types of activities. In\n",
    "each folder, there are multiple files each of which represents an instant of a human\n",
    "performing an activity. Each file containis 6 time series collected from activities\n",
    "of the same person. There are 88 instances in the dataset, each of which contains\n",
    "6 time series and each time series has 480 consecutive values.\n"
   ]
  },
  {
   "cell_type": "markdown",
   "metadata": {},
   "source": [
    "# B"
   ]
  },
  {
   "cell_type": "markdown",
   "metadata": {},
   "source": [
    "Respective data sets were renamed/reorganized to appropriate training and testing datasets"
   ]
  },
  {
   "cell_type": "markdown",
   "metadata": {},
   "source": [
    "# C: FEATURE EXTRACTION\n",
    "# i\n",
    "## Features to be used\n",
    "1. Means\n",
    "2. Standard Deviations\n",
    "3. Skewness and Kurtosis\n",
    "4. Maximum and Minimum Values\n",
    "5. Cross-Correlation and Auto-Corelations\n",
    "6. Orders\n",
    "7. Parameters of the AR and MR part\n",
    "8. K- peaks\n",
    "9. k - quantiles\n"
   ]
  },
  {
   "cell_type": "markdown",
   "metadata": {},
   "source": [
    "# ii"
   ]
  },
  {
   "cell_type": "markdown",
   "metadata": {},
   "source": [
    "Extracting time-domain features for all 6 time series in each instance"
   ]
  },
  {
   "cell_type": "code",
   "execution_count": 25,
   "metadata": {},
   "outputs": [],
   "source": [
    "import glob\n",
    "import pandas as pd\n",
    "import os\n",
    "import numpy as np\n",
    "import sklearn"
   ]
  },
  {
   "cell_type": "code",
   "execution_count": 26,
   "metadata": {},
   "outputs": [],
   "source": [
    "def loading(location,name,frame1,frame2):\n",
    "    path = location\n",
    "    allFiles = glob.glob(path + \"/*.csv\")\n",
    "    full_test_df  = pd.DataFrame()\n",
    "    full_train_df = pd.DataFrame()\n",
    "    for file_ in allFiles:\n",
    "        df = pd.read_csv(file_,index_col=None, header=4,error_bad_lines=False)\n",
    "        df = df.drop(df.columns[0],axis = 1) \n",
    "        if (name == \"bending1\" or name == \"bending2\"):\n",
    "            if ((\"dataset1\" or \"dataset2\") not in file_) :\n",
    "                full_train_df = df\n",
    "                if name == \"bending1\":\n",
    "                    full_train_df[\"target\"] = name\n",
    "                else:\n",
    "                    full_train_df[\"target\"] = name\n",
    "        elif ((name != \"bending1\" and name != \"bending2\") and ((\"dataset1\" or \"dataset2\" or \"dataset3\") not in file_)):\n",
    "            full_train_df = df\n",
    "            full_train_df[\"target\"] = name\n",
    "        else:\n",
    "            full_test_df = df\n",
    "            full_test_df[\"target\"] = name\n",
    "        \n",
    "        \n",
    "    frame1 = pd.concat([frame1, full_train_df], ignore_index=True)\n",
    "    frame2 = pd.concat([frame2, full_test_df], ignore_index=True)\n",
    "        \n",
    "    return (frame1,frame2)"
   ]
  },
  {
   "cell_type": "code",
   "execution_count": 27,
   "metadata": {},
   "outputs": [
    {
     "name": "stdout",
     "output_type": "stream",
     "text": [
      "Complete Data\n",
      "   avg_rss12_minimum  avg_rss12_maximum  avg_rss12_mean  avg_rss12_min_value  \\\n",
      "0            39.2500              42.00       40.624792                37.25   \n",
      "1            42.0000              43.67       42.812812                38.00   \n",
      "2            43.0000              45.00       43.954500                35.00   \n",
      "3            39.1500              45.00       42.179813                33.00   \n",
      "4            41.3300              42.75       41.678063                33.00   \n",
      "5            42.5000              45.00       43.454958                37.00   \n",
      "6            43.3100              44.67       43.969125                36.25   \n",
      "7            23.1875              26.50       24.562958                12.75   \n",
      "8            25.5000              30.00       27.464604                 0.00   \n",
      "9            26.1875              34.50       32.586208                21.00   \n",
      "\n",
      "   avg_rss12_max_value  avg_rss12_median  var_rss12_minimum  \\\n",
      "0                45.00             40.50               0.00   \n",
      "1                45.67             42.50               0.00   \n",
      "2                47.40             44.33               0.00   \n",
      "3                47.75             43.50               0.00   \n",
      "4                45.75             41.75               0.43   \n",
      "5                48.00             43.25               0.00   \n",
      "6                48.00             44.50               0.43   \n",
      "7                51.00             24.25               0.00   \n",
      "8                42.75             28.00               0.00   \n",
      "9                50.00             33.00               0.00   \n",
      "\n",
      "   var_rss12_maximum  var_rss12_mean  var_rss12_min_value    ...     \\\n",
      "0             0.5000        0.358604                  0.0    ...      \n",
      "1             0.5000        0.372438                  0.0    ...      \n",
      "2             0.5000        0.426250                  0.0    ...      \n",
      "3             1.1200        0.696042                  0.0    ...      \n",
      "4             0.7100        0.535979                  0.0    ...      \n",
      "5             0.5000        0.378083                  0.0    ...      \n",
      "6             0.5000        0.413125                  0.0    ...      \n",
      "7             0.7100        0.590833                  0.0    ...      \n",
      "8             0.5000        0.449708                  0.0    ...      \n",
      "9             0.8225        0.516125                  0.0    ...      \n",
      "\n",
      "   avg_rss23_min_value  avg_rss23_max_value  avg_rss23_median  \\\n",
      "0                27.25                38.25            35.000   \n",
      "1                27.67                38.50            33.000   \n",
      "2                29.00                38.50            36.000   \n",
      "3                20.00                38.67            35.000   \n",
      "4                23.67                37.50            30.000   \n",
      "5                 8.00                33.50            23.500   \n",
      "6                11.33                30.75            21.670   \n",
      "7                10.67                30.00            23.750   \n",
      "8                 0.00                33.00            18.000   \n",
      "9                 5.00                33.75            19.585   \n",
      "\n",
      "   var_rss23_minimum  var_rss23_maximum  var_rss23_mean  var_rss23_min_value  \\\n",
      "0               0.00               1.30        0.570583                  0.0   \n",
      "1               0.00               1.30        0.571083                  0.0   \n",
      "2               0.00               0.94        0.493292                  0.0   \n",
      "3               0.00               1.00        0.613521                  0.0   \n",
      "4               0.00               0.50        0.383292                  0.0   \n",
      "5               0.43               0.87        0.679646                  0.0   \n",
      "6               0.00               0.83        0.555313                  0.0   \n",
      "7               0.43               0.87        0.700188                  0.0   \n",
      "8               0.47               1.30        1.122125                  0.0   \n",
      "9               0.47               1.30        1.162042                  0.0   \n",
      "\n",
      "   var_rss23_max_value  var_rss23_median    target  \n",
      "0                 1.92              0.43  bending1  \n",
      "1                 3.11              0.43  bending1  \n",
      "2                 1.79              0.43  bending1  \n",
      "3                 2.18              0.50  bending1  \n",
      "4                 1.79              0.43  bending1  \n",
      "5                 5.26              0.50  bending1  \n",
      "6                 2.96              0.49  bending1  \n",
      "7                 4.97              0.50  bending2  \n",
      "8                 6.76              0.83  bending2  \n",
      "9                13.61              0.83  bending2  \n",
      "\n",
      "[10 rows x 37 columns]\n"
     ]
    }
   ],
   "source": [
    "def importing(location,name,new_dataframe,holding,test_df,train_df):\n",
    "    path = location\n",
    "    allFiles = glob.glob(path + \"/*.csv\")\n",
    "    frame = pd.DataFrame()\n",
    "    list_ = [] \n",
    "    mini =[]\n",
    "    maxi = []\n",
    "    meani = []\n",
    "    global counter\n",
    "    global holder\n",
    "    global test_counterb\n",
    "    global test_countero\n",
    "    global x\n",
    "    global y\n",
    "    #global test_df\n",
    "    #test_df = pd.DataFrame()\n",
    "    test_counterb =1\n",
    "    test_countero = 1\n",
    "    holder = \"bending1\"\n",
    "    \n",
    "    for file_ in allFiles:\n",
    "        df = pd.read_csv(file_,index_col=None, header=4,error_bad_lines=False)\n",
    "        #print(file_)\n",
    "        df = df.drop(df.columns[0],axis = 1)         \n",
    "        meani = list( df.mean())\n",
    "        mini = list(df.quantile(.25))\n",
    "        maxi = list(df.quantile(.75))\n",
    "        min_val = list( df.min())\n",
    "        max_val = list(df.max())\n",
    "        median_val = list(df.median())\n",
    "        new_dataframe.loc[counter,['target']] = name\n",
    "        new_dataframe.loc[counter,['avg_rss12_mean','var_rss12_mean','avg_rss13_mean','var_rss13_mean','avg_rss23_mean','var_rss23_mean']] = meani\n",
    "        new_dataframe.loc[counter,['avg_rss12_minimum','var_rss12_minimum','avg_rss13_minimum','var_rss13_minimum','avg_rss23_minimum','var_rss23_minimum']] = mini\n",
    "        new_dataframe.loc[counter,['avg_rss12_maximum','var_rss12_maximum','avg_rss13_maximum','var_rss13_maximum','avg_rss23_maximum','var_rss23_maximum']] = maxi\n",
    "        new_dataframe.loc[counter,[\"avg_rss12_min_value\",\"var_rss12_min_value\",\"avg_rss13_min_value\",\"var_rss13_min_value\",\"avg_rss23_min_value\",\"var_rss23_min_value\"]] = min_val\n",
    "        new_dataframe.loc[counter,['avg_rss12_max_value','var_rss12_max_value','avg_rss13_max_value','var_rss13_max_value','avg_rss23_max_value','var_rss23_max_value']] = max_val\n",
    "        new_dataframe.loc[counter,['avg_rss12_median','var_rss12_median','avg_rss13_median','var_rss13_median','avg_rss23_median','var_rss23_median']] =median_val\n",
    "        holding = new_dataframe.loc[counter].copy()\n",
    "        if holder != name:\n",
    "            test_counterb = 1\n",
    "            test_countero = 1\n",
    "            holder = name\n",
    "        \n",
    "        if (name == \"bending1\" or name ==\"bending2\") and test_counterb <= 2 :\n",
    "            test_df.loc[x]=(holding)\n",
    "            x=x+1\n",
    "            test_counterb = test_counterb + 1\n",
    "            \n",
    "        elif name != \"bending1\" and name !=\"bending2\" and test_countero <= 3 :\n",
    "            test_df.loc[x]=(holding)\n",
    "            x=x+1\n",
    "            test_countero = test_countero + 1\n",
    "            \n",
    "        else:\n",
    "            train_df.loc[y] = (holding)\n",
    "            y = y+1\n",
    "            catcher = 1\n",
    "\n",
    "            \n",
    "        \n",
    "        new_dataframe.append(new_dataframe)\n",
    "        counter = counter + 1\n",
    "        list_.append(df)\n",
    "        frame = pd.concat(list_)\n",
    "\n",
    "    return (test_df,train_df,new_dataframe,frame)\n",
    "\n",
    "\n",
    "activities = ['bending1', 'bending2','cycling','lying','sitting','standing','walking']\n",
    "temp_predictors = ['avg_rss12','var_rss12','avg_rss13','var_rss13','avg_rss23','var_rss23']\n",
    "predictors = ['_minimum','_maximum','_mean']\n",
    "half_path = r'C:\\Users\\anmol\\OneDrive\\Desktop\\Viterbi\\Machine Learning\\MLHW2\\AREM'\n",
    "new_dataframe = pd.DataFrame()\n",
    "holder1_df = pd.DataFrame()\n",
    "holder2_df = pd.DataFrame()\n",
    "holder3_df = pd.DataFrame()\n",
    "holding = pd.DataFrame()\n",
    "test_df = pd.DataFrame()\n",
    "train_df = pd.DataFrame()\n",
    "mega_df = pd.DataFrame()\n",
    "frame1 = pd.DataFrame()\n",
    "frame2 = pd.DataFrame()\n",
    "counter = 0\n",
    "x = 0\n",
    "y = 0\n",
    "for pred in temp_predictors:\n",
    "    for f in predictors:\n",
    "        word = pred + f\n",
    "        new_dataframe[word] = []\n",
    "        holder1_df[word] = []\n",
    "        holder2_df[word] = []\n",
    "        holder3_df[word] = []\n",
    "        test_df[word] =[]\n",
    "        train_df[word] = []\n",
    "        holding[word] = []\n",
    "        frame1[pred]=[]\n",
    "        frame2[pred] = []\n",
    "test_df[\"target\"] =[]\n",
    "holding [\"target\"] =[]\n",
    "new_dataframe[\"target\"] = []\n",
    "train_df[\"target\"] = []\n",
    "holder1_df[\"target\"] =[]\n",
    "holder2_df[\"target\"] =[]\n",
    "holder3_df[\"target\"] =[]\n",
    "frame1[\"target\"] = []\n",
    "frame2[\"target\"] =[]\n",
    "\n",
    "\n",
    "temp_predictors = ['avg_rss12','var_rss12','avg_rss13','var_rss13','avg_rss23','var_rss23']\n",
    "predictors = ['_minimum','_maximum','_mean','_min_value','_max_value','_median']\n",
    "new_dataframe = pd.DataFrame()\n",
    "holding = pd.DataFrame()\n",
    "test_df = pd.DataFrame()\n",
    "train_df = pd.DataFrame()\n",
    "counter = 0\n",
    "x = 0\n",
    "y = 0\n",
    "for pred in temp_predictors:\n",
    "    for f in predictors:\n",
    "        word = pred + f\n",
    "        new_dataframe[word] = []\n",
    "        test_df[word] =[]\n",
    "        train_df[word] = []\n",
    "        holding[word] = []\n",
    "test_df[\"target\"] =[]\n",
    "holding [\"target\"] =[]\n",
    "new_dataframe[\"target\"] = []\n",
    "train_df[\"target\"] = []\n",
    "\n",
    "\n",
    "for i in activities:\n",
    "    full_path = os.path.join(half_path,i)\n",
    "    name = i\n",
    "    df = importing(full_path,name,new_dataframe,holding,test_df,train_df)\n",
    "test_df = df[0]\n",
    "train_df = df[1]\n",
    "full_df = df[2]\n",
    "mega_df = df[3]\n",
    "#print(\"Test Data\")\n",
    "#print(test_df[:5])\n",
    "#print(\"Train Data\")\n",
    "#print(train_df[:5])\n",
    "print(\"Complete Data\")\n",
    "print(full_df[:10])"
   ]
  },
  {
   "cell_type": "markdown",
   "metadata": {},
   "source": [
    "In the above code the following features were extracted for each time series.\n",
    "\n",
    "1. minimum  = .25 quantile\n",
    "2. maximum = .75 quantile\n",
    "3. median = median of all\n",
    "4. mean = mean of all values\n",
    "5. min_value = minimum value in range\n",
    "6. max_value = maximum value in range\n",
    "\n",
    "hence total number of columns would be 6 (time series) * 6 (feature i.e min,max,median,mean,.25 quantile,.75 quantile) + labels = 37 columns and 88 rows. \n",
    "\n"
   ]
  },
  {
   "cell_type": "markdown",
   "metadata": {},
   "source": [
    "# Not only were the six time series extracted but also some usefull  time series feature operation were done on them in the above block."
   ]
  },
  {
   "cell_type": "markdown",
   "metadata": {
    "collapsed": true
   },
   "source": [
    "# iii STD of each feature and bootstrap confidence interval of STD"
   ]
  },
  {
   "cell_type": "code",
   "execution_count": 28,
   "metadata": {},
   "outputs": [
    {
     "name": "stdout",
     "output_type": "stream",
     "text": [
      "Standard deviation for the feature 1 = 6.1805920862125685\n",
      "Bootstrapped 95% confidence intervals\n",
      "Low: 5.5731674155975 \n",
      "High: 6.883896582542183\n",
      "Standard deviation for the feature 2 = 5.168162622092964\n",
      "Bootstrapped 95% confidence intervals\n",
      "Low: 4.344124395940628 \n",
      "High: 6.172029364326202\n",
      "Standard deviation for the feature 3 = 5.363195645045545\n",
      "Bootstrapped 95% confidence intervals\n",
      "Low: 4.712517256398474 \n",
      "High: 6.146324974732271\n",
      "Standard deviation for the feature 4 = 9.62444230081467\n",
      "Bootstrapped 95% confidence intervals\n",
      "Low: 8.377293836795328 \n",
      "High: 11.47396416183176\n",
      "Standard deviation for the feature 5 = 4.418978283771094\n",
      "Bootstrapped 95% confidence intervals\n",
      "Low: 3.369631686667221 \n",
      "High: 5.738847837436981\n",
      "Standard deviation for the feature 6 = 5.46472496216009\n",
      "Bootstrapped 95% confidence intervals\n",
      "Low: 4.806877305271033 \n",
      "High: 6.273263885784208\n",
      "Standard deviation for the feature 7 = 0.9502981381598107\n",
      "Bootstrapped 95% confidence intervals\n",
      "Low: 0.8223298711368399 \n",
      "High: 1.0653860281705436\n",
      "Standard deviation for the feature 8 = 2.1322539133984217\n",
      "Bootstrapped 95% confidence intervals\n",
      "Low: 1.8611321522385726 \n",
      "High: 2.3348602836699843\n",
      "Standard deviation for the feature 9 = 1.5798603936470672\n",
      "Bootstrapped 95% confidence intervals\n",
      "Low: 1.3793482600576015 \n",
      "High: 1.7409774570110088\n",
      "Standard deviation for the feature 10 = 0.0\n"
     ]
    },
    {
     "name": "stderr",
     "output_type": "stream",
     "text": [
      "C:\\Users\\anmol\\newpython\\envs\\ulti\\lib\\site-packages\\ipykernel_launcher.py:9: InstabilityWarning: BCa acceleration values for indexes (array([0], dtype=int64),) were undefined. Statistic values were likely all equal. Affected CI will be inaccurate.\n",
      "  if __name__ == '__main__':\n",
      "C:\\Users\\anmol\\newpython\\envs\\ulti\\lib\\site-packages\\ipykernel_launcher.py:9: InstabilityWarning: Some values were NaN; results are probably unstable (all values were probably equal)\n",
      "  if __name__ == '__main__':\n"
     ]
    },
    {
     "name": "stdout",
     "output_type": "stream",
     "text": [
      "Bootstrapped 95% confidence intervals\n",
      "Low: 0.0 \n",
      "High: 0.0\n",
      "Standard deviation for the feature 11 = 5.068951729756293\n",
      "Bootstrapped 95% confidence intervals\n",
      "Low: 4.599695219874382 \n",
      "High: 5.527541802428346\n",
      "Standard deviation for the feature 12 = 1.418979779751456\n",
      "Bootstrapped 95% confidence intervals\n",
      "Low: 1.2195765131591099 \n",
      "High: 1.5817085661946795\n",
      "Standard deviation for the feature 13 = 4.2440299129992605\n",
      "Bootstrapped 95% confidence intervals\n",
      "Low: 3.614703489483565 \n",
      "High: 4.889541519100761\n",
      "Standard deviation for the feature 14 = 4.195438179177879\n",
      "Bootstrapped 95% confidence intervals\n",
      "Low: 3.5362854201264295 \n",
      "High: 4.890985539354537\n",
      "Standard deviation for the feature 15 = 4.0309098988041425\n",
      "Bootstrapped 95% confidence intervals\n",
      "Low: 3.4126381532982966 \n",
      "High: 4.6803587738221655\n",
      "Standard deviation for the feature 16 = 2.9545164118707987\n",
      "Bootstrapped 95% confidence intervals\n",
      "Low: 2.748648801474752 \n",
      "High: 3.15598677177729\n",
      "Standard deviation for the feature 17 = 4.89888695768928\n",
      "Bootstrapped 95% confidence intervals\n",
      "Low: 4.154458653184228 \n",
      "High: 5.6914403770803705\n",
      "Standard deviation for the feature 18 = 4.059579356237007\n",
      "Bootstrapped 95% confidence intervals\n",
      "Low: 3.40842967253348 \n",
      "High: 4.724262630146588\n",
      "Standard deviation for the feature 19 = 0.843357150369516\n",
      "Bootstrapped 95% confidence intervals\n",
      "Low: 0.7598320103207327 \n",
      "High: 0.9005760018035357\n",
      "Standard deviation for the feature 20 = 1.547833360367815\n",
      "Bootstrapped 95% confidence intervals\n",
      "Low: 1.3975750815139607 \n",
      "High: 1.634582244131094\n",
      "Standard deviation for the feature 21 = 1.163732140770584\n",
      "Bootstrapped 95% confidence intervals\n",
      "Low: 1.0518270870744209 \n",
      "High: 1.2274502534120209\n",
      "Standard deviation for the feature 22 = 0.0\n"
     ]
    },
    {
     "name": "stderr",
     "output_type": "stream",
     "text": [
      "C:\\Users\\anmol\\newpython\\envs\\ulti\\lib\\site-packages\\ipykernel_launcher.py:9: InstabilityWarning: BCa acceleration values for indexes (array([0], dtype=int64),) were undefined. Statistic values were likely all equal. Affected CI will be inaccurate.\n",
      "  if __name__ == '__main__':\n",
      "C:\\Users\\anmol\\newpython\\envs\\ulti\\lib\\site-packages\\ipykernel_launcher.py:9: InstabilityWarning: Some values were NaN; results are probably unstable (all values were probably equal)\n",
      "  if __name__ == '__main__':\n"
     ]
    },
    {
     "name": "stdout",
     "output_type": "stream",
     "text": [
      "Bootstrapped 95% confidence intervals\n",
      "Low: 0.0 \n",
      "High: 0.0\n",
      "Standard deviation for the feature 23 = 2.182822878229595\n",
      "Bootstrapped 95% confidence intervals\n",
      "Low: 1.9641160025036175 \n",
      "High: 2.4334328974793094\n",
      "Standard deviation for the feature 24 = 1.1450173544744118\n",
      "Bootstrapped 95% confidence intervals\n",
      "Low: 1.0309684207234477 \n",
      "High: 1.2098736024756882\n",
      "Standard deviation for the feature 25 = 6.130487045201819\n",
      "Bootstrapped 95% confidence intervals\n",
      "Low: 4.843022000811426 \n",
      "High: 7.7475553449349395\n",
      "Standard deviation for the feature 26 = 5.56373643770285\n",
      "Bootstrapped 95% confidence intervals\n",
      "Low: 4.391202006297776 \n",
      "High: 6.99252848929977\n",
      "Standard deviation for the feature 27 = 5.707933852243464\n",
      "Bootstrapped 95% confidence intervals\n",
      "Low: 4.448263818606957 \n",
      "High: 7.2014462484277555\n",
      "Standard deviation for the feature 28 = 6.138588864099675\n",
      "Bootstrapped 95% confidence intervals\n",
      "Low: 4.512388016015635 \n",
      "High: 8.204429540020245\n",
      "Standard deviation for the feature 29 = 5.772746079656295\n",
      "Bootstrapped 95% confidence intervals\n",
      "Low: 4.720327142687667 \n",
      "High: 6.893758095103209\n",
      "Standard deviation for the feature 30 = 5.846904279631438\n",
      "Bootstrapped 95% confidence intervals\n",
      "Low: 4.5658130416902365 \n",
      "High: 7.462936855075256\n",
      "Standard deviation for the feature 31 = 0.759430278191383\n",
      "Bootstrapped 95% confidence intervals\n",
      "Low: 0.6800686443867865 \n",
      "High: 0.8210188294741901\n",
      "Standard deviation for the feature 32 = 1.5226081182704372\n",
      "Bootstrapped 95% confidence intervals\n",
      "Low: 1.3753418196535114 \n",
      "High: 1.6125705691025058\n",
      "Standard deviation for the feature 33 = 1.1541690074986493\n",
      "Bootstrapped 95% confidence intervals\n",
      "Low: 1.039104407921015 \n",
      "High: 1.2254283577117184\n",
      "Standard deviation for the feature 34 = 0.04610083899802518\n",
      "Bootstrapped 95% confidence intervals\n",
      "Low: 0.0 \n",
      "High: 0.07846021129363961\n",
      "Standard deviation for the feature 35 = 2.521342251035969\n",
      "Bootstrapped 95% confidence intervals\n",
      "Low: 2.2532065552639358 \n",
      "High: 2.8991344123486322\n",
      "Standard deviation for the feature 36 = 1.08570088793831\n",
      "Bootstrapped 95% confidence intervals\n",
      "Low: 0.9736050928040828 \n",
      "High: 1.1585140037088615\n"
     ]
    }
   ],
   "source": [
    "import scipy\n",
    "import scikits.bootstrap as bs\n",
    "from scipy import stats\n",
    "\n",
    "full_df = full_df.dropna()\n",
    "\n",
    "for i in range(0,36):\n",
    "    print (\"Standard deviation for the feature\",i+1,\"=\",full_df.iloc[:,i].std() ) \n",
    "    CIs = bs.ci(data=full_df.iloc[:,i],statfunction=scipy.std, n_samples = 20000)\n",
    "    print (\"Bootstrapped 95% confidence intervals\\nLow:\", CIs[0], \"\\nHigh:\", CIs[1] ) \n",
    "    \n",
    "  "
   ]
  },
  {
   "cell_type": "markdown",
   "metadata": {},
   "source": [
    "# iv Feature selection\n",
    "\n",
    "After extracting features in c - ii and then then processing them by using some of the selected features it was noted that most appropriate features for all 6 time series features would be :using 25%, 75% quantile and mean. Not using min because of skewness of data towards 0 (i.e) Left skewed and by using these features we were able to avoid normalization of data as this itself gave evenly spaced/distrbuted data."
   ]
  },
  {
   "cell_type": "markdown",
   "metadata": {
    "collapsed": true
   },
   "source": [
    "# D Binary Classification using Logistic Regression"
   ]
  },
  {
   "cell_type": "markdown",
   "metadata": {},
   "source": [
    "# i"
   ]
  },
  {
   "cell_type": "code",
   "execution_count": 29,
   "metadata": {},
   "outputs": [
    {
     "data": {
      "image/png": "[encoded data removed]",
      "text/plain": [
       "<matplotlib.figure.Figure at 0x25ba4cf58d0>"
      ]
     },
     "metadata": {},
     "output_type": "display_data"
    }
   ],
   "source": [
    "import matplotlib.pyplot as plt\n",
    "\n",
    "ulti_df = pd.DataFrame()\n",
    "temp_ulti_df = pd.DataFrame()\n",
    "ulti_df = train_df\n",
    "ulti_df = ulti_df.replace(['bending1', 'bending2','cycling', 'lying', 'sitting', 'standing','walking'],['bending', 'bending', 'notbending', 'notbending', 'notbending', 'notbending','notbending'])\n",
    "heads = [0,1,2,6,7,8,24,25,26,36]\n",
    "temp_ulti_df = ulti_df.iloc[:,heads]\n",
    "temp_ulti_df = temp_ulti_df.dropna()\n",
    "temp_ulti_df = temp_ulti_df.replace(['bending', 'notbending'],[1,0])\n",
    "temp_ulti_df_target = temp_ulti_df['target']\n",
    "temp_ulti_df = temp_ulti_df.drop(columns = ['target'])\n",
    "#x_labels = list(temp_ulti_df.columns.values)\n",
    "#x_labels.pop(9)\n",
    "#print(x_labels)\n",
    "plt.figure(num=None, figsize=(15, 8), dpi=80, facecolor='w', edgecolor='k')\n",
    "\n",
    "color = temp_ulti_df_target.replace([1,0],[\"g\",\"r\"]) \n",
    "\n",
    "for column in temp_ulti_df.columns:\n",
    "    x_label = []\n",
    "    y_label = []\n",
    "    for i in range(0,len(temp_ulti_df[column])):\n",
    "        x_label.append(column)\n",
    "    y_label = temp_ulti_df[column]\n",
    "    plt.scatter(x= x_label ,y= y_label,c = color)\n",
    "plt.show()     \n",
    "        \n"
   ]
  },
  {
   "cell_type": "markdown",
   "metadata": {},
   "source": [
    "# ii"
   ]
  },
  {
   "cell_type": "code",
   "execution_count": 48,
   "metadata": {},
   "outputs": [
    {
     "data": {
      "image/png": "[encoded data removed]",
      "text/plain": [
       "<matplotlib.figure.Figure at 0x25ba611ec18>"
      ]
     },
     "metadata": {},
     "output_type": "display_data"
    }
   ],
   "source": [
    "ulti_df1 = pd.DataFrame()\n",
    "temp_ulti_df1 = pd.DataFrame()\n",
    "ulti_df1 = b[1]\n",
    "ulti_df1 = ulti_df1.replace(['bending1', 'bending2','cycling', 'lying', 'sitting', 'standing','walking'],['bending', 'bending', 'notbending', 'notbending', 'notbending', 'notbending','notbending'])\n",
    "heads1 = [0,1,2,3,4,5,14,15,16,17,18]\n",
    "temp_ulti_df1 = ulti_df1.iloc[:,heads1]\n",
    "temp_ulti_df1 = temp_ulti_df1.dropna()\n",
    "\n",
    "temp_ulti_df1 = temp_ulti_df1.replace([\"bending\",\"notbending\"],[1,0])\n",
    "\n",
    "temp_ulti_df1_target = temp_ulti_df1['target']\n",
    "temp_ulti_df1 = temp_ulti_df1.drop(columns = ['target'])\n",
    "\n",
    "plt.figure(num=None, figsize=(15, 8), dpi=80, facecolor='w', edgecolor='k')\n",
    "\n",
    "color1 = temp_ulti_df1_target.replace([1,0],[\"g\",\"r\"]) \n",
    "\n",
    "for column in temp_ulti_df1.columns:\n",
    "    x_label1 = []\n",
    "    y_label1 = []\n",
    "    for i in range(0,len(temp_ulti_df1[column])):\n",
    "        x_label1.append(column)\n",
    "    y_label1 = temp_ulti_df1[column]\n",
    "    plt.scatter(x= x_label1 ,y= y_label1,c = color1)\n",
    "plt.show()     \n",
    "        \n"
   ]
  },
  {
   "cell_type": "markdown",
   "metadata": {},
   "source": [
    "The classes seem to be less seperated, it seems as the number of data points increase the data seems to be even less sperated, which would make classification even more difficult"
   ]
  },
  {
   "cell_type": "markdown",
   "metadata": {},
   "source": [
    "# iii"
   ]
  },
  {
   "cell_type": "code",
   "execution_count": 50,
   "metadata": {},
   "outputs": [],
   "source": [
    "training_data=pd.DataFrame()\n",
    "testing_data=pd.DataFrame()"
   ]
  },
  {
   "cell_type": "code",
   "execution_count": 51,
   "metadata": {},
   "outputs": [
    {
     "name": "stdout",
     "output_type": "stream",
     "text": [
      "   avg_rss12  var_rss12  avg_rss13  var_rss13  avg_rss23  var_rss23    target\n",
      "0      42.00       0.71      21.25       0.43      30.00       0.00  bending1\n",
      "1      41.50       0.50      20.25       1.48      31.25       1.09  bending1\n",
      "2      41.50       0.50      14.25       1.92      33.00       0.00  bending1\n",
      "3      40.75       0.83      15.75       0.43      33.00       0.00  bending1\n",
      "4      40.00       0.71      20.00       2.74      32.75       0.43  bending1\n",
      "5      41.25       0.83      24.25       0.43      31.50       0.87  bending1\n",
      "6      42.25       0.43      23.75       0.43      35.25       1.30  bending1\n",
      "7      43.50       0.87      21.00       0.00      36.00       0.00  bending1\n",
      "8      42.75       0.83      21.25       0.43      36.00       0.00  bending1\n",
      "9      43.25       0.43      23.75       0.43      36.00       0.00  bending1\n",
      "\n",
      "\n",
      "   avg_rss12  var_rss12  avg_rss13  var_rss13  avg_rss23  var_rss23    target\n",
      "0      39.25       0.43      22.75       0.43      33.75        1.3  bending1\n",
      "1      39.25       0.43      23.00       0.00      33.00        0.0  bending1\n",
      "2      39.25       0.43      23.25       0.43      33.00        0.0  bending1\n",
      "3      39.50       0.50      23.00       0.71      33.00        0.0  bending1\n",
      "4      39.50       0.50      24.00       0.00      33.00        0.0  bending1\n",
      "5      39.25       0.43      24.00       0.00      33.00        0.0  bending1\n",
      "6      39.25       0.43      24.00       0.00      33.00        0.0  bending1\n",
      "7      39.00       0.00      23.75       0.43      33.00        0.0  bending1\n",
      "8      39.50       0.50      24.00       0.00      33.00        0.0  bending1\n",
      "9      39.50       0.50      23.00       0.00      33.00        0.0  bending1\n"
     ]
    }
   ],
   "source": [
    "test = pd.DataFrame()\n",
    "train= pd.DataFrame()\n",
    "\n",
    "for name in activities:\n",
    "    path = os.path.join(half_path,name)\n",
    "    allFiles = glob.glob(path + \"/*.csv\")\n",
    "    #print(name)\n",
    "    for file_ in allFiles:\n",
    "        full_test_df  = pd.DataFrame()\n",
    "        full_train_df = pd.DataFrame()\n",
    "        df = pd.read_csv(file_,index_col=None, header=4)\n",
    "        df = df.drop(df.columns[0],axis = 1) \n",
    "        if ((name == \"bending1\") or (name == \"bending2\")) :\n",
    "            if ((\"dataset1\" in file_) or (\"dataset2\" in file_)):\n",
    "                full_test_df = df\n",
    "                full_test_df[\"target\"] = name \n",
    "            else:\n",
    "                full_train_df = df\n",
    "                full_train_df[\"target\"] = name   \n",
    "                \n",
    "        elif ((name != \"bending1\") or (name != \"bending2\")):\n",
    "            if ((\"dataset3\"  in file_) or (\"dataset1\"  in file_) or (\"dataset2\"  in file_)):\n",
    "                full_test_df = df\n",
    "                full_test_df[\"target\"] = name\n",
    "            else:\n",
    "                full_train_df = df\n",
    "                full_train_df[\"target\"] = name\n",
    "               \n",
    "            \n",
    "        train = train.append(full_train_df)\n",
    "        test = test.append(full_test_df)\n",
    "       \n",
    "    \n",
    "print(train[:10])\n",
    "print('\\n')\n",
    "print(test[:10])    \n",
    "    "
   ]
  },
  {
   "cell_type": "code",
   "execution_count": 52,
   "metadata": {},
   "outputs": [],
   "source": [
    "def splitDataFrameIntoSmaller(df, chunkSize): \n",
    "    listOfDf = list()\n",
    "    numberChunks = len(df) // chunkSize + 1\n",
    "    for i in range(numberChunks):\n",
    "        listOfDf.append(df[i*chunkSize:(i+1)*chunkSize])\n",
    "        \n",
    "    return listOfDf\n",
    "\n",
    "btrain = train\n",
    "btest = test\n",
    "btrain = btrain.replace(['bending1', 'bending2','cycling', 'lying', 'sitting', 'standing',\n",
    "       'walking'],['bending', 'bending', 'notbending', 'notbending', 'notbending', 'notbending',\n",
    "       'notbending'])\n",
    "\n",
    "btest=btest.replace(['bending1', 'bending2', 'cycling', 'lying', 'sitting', 'standing',\n",
    "       'walking'],['bending', 'bending', 'notbending', 'notbending', 'notbending', 'notbending',\n",
    "       'notbending'])\n",
    "b = []\n",
    "for t in range(1,11):\n",
    "    a = [] \n",
    "    a = splitDataFrameIntoSmaller(btrain, (int(480/t)) )\n",
    "    feature = pd.DataFrame()\n",
    "    counterss = 0\n",
    "    for z in range(0,(len(a)-1)):\n",
    "        holder1_df = holder1_df[0:0]\n",
    "        holder1_df.loc[counterss,['target']] = a[z].iloc[0,6] \n",
    "        a[z] = a[z].drop(columns = ['target'])\n",
    "        holder1_df.loc[counterss,['avg_rss12_mean','var_rss12_mean','avg_rss13_mean','var_rss13_mean','avg_rss23_mean','var_rss23_mean']] = list(a[z].mean())\n",
    "        holder1_df.loc[counterss,['avg_rss12_minimum','var_rss12_minimum','avg_rss13_minimum','var_rss13_minimum','avg_rss23_minimum','var_rss23_minimum']] = list(a[z].quantile(.25))\n",
    "        holder1_df.loc[counterss,['avg_rss12_maximum','var_rss12_maximum','avg_rss13_maximum','var_rss13_maximum','avg_rss23_maximum','var_rss23_maximum']] = list(a[z].quantile(.75))\n",
    "        counterss = counterss + 1\n",
    "        feature = feature.append(holder1_df) \n",
    "    b.append(feature)\n"
   ]
  },
  {
   "cell_type": "code",
   "execution_count": 283,
   "metadata": {
    "scrolled": true
   },
   "outputs": [
    {
     "name": "stdout",
     "output_type": "stream",
     "text": [
      "[0.9417582417582417, 0.8970899470899469, 0.9215853658536585, 0.93010101010101, 0.9294117647058824, 0.9314664257753689, 0.925171821305842, 0.9264865783214408, 0.9301862050878572, 0.9279411764705883]\n"
     ]
    }
   ],
   "source": [
    "from sklearn.metrics import accuracy_score \n",
    "from sklearn.linear_model import LogisticRegression\n",
    "import numpy as np\n",
    "from sklearn.model_selection import train_test_split\n",
    "from sklearn import datasets\n",
    "from sklearn import svm\n",
    "from sklearn.model_selection import KFold\n",
    "from sklearn.model_selection import cross_val_score\n",
    "from sklearn.utils import shuffle\n",
    "\n",
    "\n",
    "mean_score = []\n",
    "kf = KFold(n_splits=5)\n",
    "X_train = pd.DataFrame()\n",
    "X_test =  pd.DataFrame()\n",
    "X_train_target = pd.DataFrame()\n",
    "X_train_data = pd.DataFrame()\n",
    "X_test_target = pd.DataFrame()\n",
    "X_test_data = pd.DataFrame()\n",
    "\n",
    "for val in b:\n",
    "    values = shuffle(val)\n",
    "    values = values.dropna() \n",
    "    g =[]\n",
    "    kf.get_n_splits(values)\n",
    "    for train_index, test_index in kf.split(values):\n",
    "        X_train = values.iloc[train_index]\n",
    "        X_test =  values.iloc[test_index]\n",
    "        X_train_target = X_train['target']\n",
    "        X_train = X_train.drop(columns = 'target')\n",
    "        X_train_data = X_train\n",
    "        X_test_target = X_test['target']\n",
    "        X_test = X_test.drop(columns = 'target')\n",
    "        X_test_data = X_test\n",
    "        model_q = LogisticRegression(penalty = 'l2', C=1)\n",
    "        model_q.fit(X_train_data,X_train_target)\n",
    "        scoring = accuracy_score(X_test_target,model_q.predict(X_test_data))\n",
    "        g.append(scoring)\n",
    "    mean_score.append(np.mean(g))\n",
    "\n",
    "print(mean_score)\n"
   ]
  },
  {
   "cell_type": "markdown",
   "metadata": {},
   "source": [
    "# From above it can be seen that the best mean score value is for l = 1. Hence the model will perfomr best with l at 1"
   ]
  },
  {
   "cell_type": "code",
   "execution_count": 36,
   "metadata": {},
   "outputs": [],
   "source": [
    "# Running the model by selecting P values and refitting it."
   ]
  },
  {
   "cell_type": "code",
   "execution_count": 94,
   "metadata": {},
   "outputs": [
    {
     "name": "stdout",
     "output_type": "stream",
     "text": [
      "[6.95379122e-01 8.07204791e-01 8.82994998e-01 2.30100432e-02\n",
      " 3.27038763e-03 1.23116620e-02 2.09474320e-02 5.52416190e-03\n",
      " 1.05310139e-02 7.20083495e-02 5.54985330e-02 8.54739636e-02\n",
      " 2.78212584e-13 9.68786711e-10 7.45146665e-12 3.18329161e-02\n",
      " 1.97424366e-02 4.11096993e-02]\n"
     ]
    }
   ],
   "source": [
    "import statistics\n",
    "import math\n",
    "import itertools \n",
    "import statsmodels.formula.api as smf\n",
    "import statsmodels.api as sm\n",
    "import pylab as pl\n",
    "import sklearn\n",
    "\n",
    "xl_train_data = pd.DataFrame()\n",
    "xl_train_target = pd.DataFrame()\n",
    "\n",
    "datal = b[0]\n",
    "datal = datal.dropna()\n",
    "datal = datal.replace(['bending','notbending'],[1,0])\n",
    "datal = shuffle(datal)\n",
    "\n",
    "xl_train_target['target'] = datal.target\n",
    "m_dfd = xl_train_target\n",
    "datal = datal.drop(columns = ['target'])\n",
    "xl_train_data = datal\n",
    "m_dft = xl_train_data\n",
    "logit = sklearn.feature_selection.chi2(xl_train_data,xl_train_target)\n",
    "print(logit[1])\n"
   ]
  },
  {
   "cell_type": "markdown",
   "metadata": {},
   "source": [
    "# Selecting features based on P value significance 4,5,6,7,9,13,14,15,16,17,18 and dropping - 1,2,3,8,10,11,12"
   ]
  },
  {
   "cell_type": "code",
   "execution_count": 38,
   "metadata": {},
   "outputs": [
    {
     "name": "stdout",
     "output_type": "stream",
     "text": [
      "0.9411764705882353\n"
     ]
    },
    {
     "name": "stderr",
     "output_type": "stream",
     "text": [
      "C:\\Users\\anmol\\newpython\\envs\\ulti\\lib\\site-packages\\sklearn\\utils\\validation.py:578: DataConversionWarning: A column-vector y was passed when a 1d array was expected. Please change the shape of y to (n_samples, ), for example using ravel().\n",
      "  y = column_or_1d(y, warn=True)\n"
     ]
    }
   ],
   "source": [
    "new_train_data = pd.DataFrame()\n",
    "new_train_data = xl_train_data.drop(columns = ['var_rss12_mean','avg_rss13_mean','avg_rss23_mean','var_rss23_mean','var_rss12_minimum','avg_rss13_minimum','var_rss13_minimum','avg_rss23_minimum','var_rss23_minimum','var_rss12_maximum','avg_rss23_maximum'], axis = 1)\n",
    "model_q.fit(new_train_data,xl_train_target)\n",
    "predicted_val = model_q.predict(new_train_data)\n",
    "scores= accuracy_score(xl_train_target,predicted_val)\n",
    "print(scores)"
   ]
  },
  {
   "cell_type": "markdown",
   "metadata": {},
   "source": [
    "# Ans\n",
    "\n",
    "## The best value of L was obtained at L = 1, and the accuracy score after pruning was 94%. Pruning did not cause a significant increase maybe due to default penalization setting which could have been overcome by increasing the C value hence initally all values for accuracy might have been lower.\n",
    "\n",
    "## The right way to perform this operation would be to either choose optimum L first and then for that L choose significant P values or choose significant p values for each iteration of L and both the operations happen simultaneously.\n",
    "\n",
    "## The wrong way to do the operation would be to first choose significant p values for features and then only select those features during the different iterations of L \n"
   ]
  },
  {
   "cell_type": "markdown",
   "metadata": {},
   "source": [
    "# iv   Confusion Matrix, ROC, AUC"
   ]
  },
  {
   "cell_type": "code",
   "execution_count": 39,
   "metadata": {},
   "outputs": [
    {
     "name": "stdout",
     "output_type": "stream",
     "text": [
      "[[59  1]\n",
      " [ 3  5]]\n"
     ]
    }
   ],
   "source": [
    "from sklearn.metrics import confusion_matrix\n",
    "cm = confusion_matrix(xl_train_target,predicted_val)\n",
    "print(cm)"
   ]
  },
  {
   "cell_type": "markdown",
   "metadata": {},
   "source": [
    "# Inference out of the total 68 rows under observation \n",
    "## out of 60 instances of not bending 59 were predicted correctly and 1 was misclassified\n",
    "## out of 8 instances of bending 3 were misclassified and 5 were classified correctly."
   ]
  },
  {
   "cell_type": "code",
   "execution_count": 40,
   "metadata": {},
   "outputs": [
    {
     "name": "stderr",
     "output_type": "stream",
     "text": [
      "C:\\Users\\anmol\\newpython\\envs\\ulti\\lib\\site-packages\\ggplot\\utils.py:81: FutureWarning: pandas.tslib is deprecated and will be removed in a future version.\n",
      "You can access Timestamp as pandas.Timestamp\n",
      "  pd.tslib.Timestamp,\n",
      "C:\\Users\\anmol\\newpython\\envs\\ulti\\lib\\site-packages\\ggplot\\stats\\smoothers.py:4: FutureWarning: The pandas.lib module is deprecated and will be removed in a future version. These are private functions and can be accessed from pandas._libs.lib instead\n",
      "  from pandas.lib import Timestamp\n"
     ]
    },
    {
     "name": "stdout",
     "output_type": "stream",
     "text": [
      "the AUC for the given curve is  0.95625\n",
      "The coeffecients of the model are [[-0.15753962 -0.49263454  0.39287681  0.58814625  0.01969626 -0.09630323\n",
      "  -1.14385838]]\n",
      "The associated p values are [6.95379122e-01 8.07204791e-01 8.82994998e-01 2.30100432e-02\n",
      " 3.27038763e-03 1.23116620e-02 2.09474320e-02 5.52416190e-03\n",
      " 1.05310139e-02 7.20083495e-02 5.54985330e-02 8.54739636e-02\n",
      " 2.78212584e-13 9.68786711e-10 7.45146665e-12 3.18329161e-02\n",
      " 1.97424366e-02 4.11096993e-02]\n"
     ]
    },
    {
     "data": {
      "image/png": "[encoded data removed]",
      "text/plain": [
       "<matplotlib.figure.Figure at 0x25ba53a9588>"
      ]
     },
     "metadata": {},
     "output_type": "display_data"
    },
    {
     "data": {
      "text/plain": [
       "<ggplot: (162039832559)>"
      ]
     },
     "execution_count": 40,
     "metadata": {},
     "output_type": "execute_result"
    }
   ],
   "source": [
    "from ggplot import *\n",
    "from sklearn import metrics\n",
    "predicted1_val = model_q.predict_proba(new_train_data)\n",
    "\n",
    "fpr, tpr, _ = metrics.roc_curve(xl_train_target, predicted1_val[:,1])\n",
    "\n",
    "df_c = pd.DataFrame(dict(fpr=fpr, tpr=tpr))\n",
    "print(\"the AUC for the given curve is \",metrics.auc(fpr,tpr))\n",
    "print(\"The coeffecients of the model are\",model_q.coef_)\n",
    "print(\"The associated p values are\",logit[1])\n",
    "ggplot(df_c, aes(x='fpr', y='tpr')) +\\\n",
    "    geom_line() +\\\n",
    "    geom_abline(linetype='dashed')   \n",
    "    \n",
    "    \n"
   ]
  },
  {
   "cell_type": "markdown",
   "metadata": {},
   "source": [
    "# iv Testing the classifier on the Test Set . Since it was for l = 1, we can use the test set as is i.e without splitting it"
   ]
  },
  {
   "cell_type": "code",
   "execution_count": 41,
   "metadata": {},
   "outputs": [
    {
     "name": "stdout",
     "output_type": "stream",
     "text": [
      "1.0\n"
     ]
    }
   ],
   "source": [
    "#Preparing Test set\n",
    "xl_test = test\n",
    "feature_test = pd.DataFrame()\n",
    "ct = 0\n",
    "temp_df1 = pd.DataFrame()\n",
    "xl_test_target = pd.DataFrame()\n",
    "xl_test_train = pd.DataFrame()\n",
    "\n",
    "def splitDataFrameIntoSmaller(df, chunkSize): \n",
    "    listOfDf = list()\n",
    "    numberChunks = len(df) // chunkSize + 1\n",
    "    for i in range(numberChunks):\n",
    "        listOfDf.append(df[i*chunkSize:(i+1)*chunkSize])\n",
    "        \n",
    "    return listOfDf\n",
    "\n",
    "\n",
    "\n",
    "xl_test = xl_test.replace(['bending1', 'bending2', 'cycling', 'lying', 'sitting', 'standing','walking'],['bending', 'bending', 'notbending', 'notbending', 'notbending', 'notbending','notbending'])\n",
    "\n",
    "\n",
    "c = splitDataFrameIntoSmaller(xl_test, 480)\n",
    "\n",
    "\n",
    "for poll in range(0,(len(c)-1)):\n",
    "    holder2_df = holder2_df[0:0]\n",
    "    holder2_df.loc[ct,['target']] = c[poll].iloc[0,6] \n",
    "    c[poll] = c[poll].drop(columns = 'target')\n",
    "    holder2_df.loc[ct,['avg_rss12_mean','var_rss12_mean','avg_rss13_mean','var_rss13_mean','avg_rss23_mean','var_rss23_mean']] = list(c[poll].mean())\n",
    "    holder2_df.loc[ct,['avg_rss12_minimum','var_rss12_minimum','avg_rss13_minimum','var_rss13_minimum','avg_rss23_minimum','var_rss23_minimum']] =list(c[poll].quantile(.25))\n",
    "    holder2_df.loc[ct,['avg_rss12_maximum','var_rss12_maximum','avg_rss13_maximum','var_rss13_maximum','avg_rss23_maximum','var_rss23_maximum']] =list(c[poll].quantile(.75))\n",
    "    ct = ct + 1\n",
    "    feature_test = feature_test.append(holder2_df) \n",
    "\n",
    "xl_test_target[\"target\"] = feature_test['target']\n",
    "feature_test = feature_test.drop(columns = ['target'])\n",
    "xl_test_data = feature_test\n",
    "xl_test_target = xl_test_target.replace(['bending','notbending'],[1,0])\n",
    "\n",
    "new_test_data = pd.DataFrame()\n",
    "new_test_data = xl_test_data.drop(columns = ['var_rss12_mean','avg_rss13_mean','avg_rss23_mean','var_rss23_mean','var_rss12_minimum','avg_rss13_minimum','var_rss13_minimum','avg_rss23_minimum','var_rss23_minimum','var_rss12_maximum','avg_rss23_maximum'], axis = 1)\n",
    "predicted_val_test = model_q.predict(new_test_data)\n",
    "scores= accuracy_score(xl_test_target,predicted_val_test)\n",
    "print(scores)\n"
   ]
  },
  {
   "cell_type": "markdown",
   "metadata": {},
   "source": [
    "## The difference between the accuracy score is quite significant we obtained a 100 percent accuracy score on our test data as opposed to the 94 percent on the train data. Making a 6 percent increase "
   ]
  },
  {
   "cell_type": "markdown",
   "metadata": {},
   "source": [
    "# vi  \n",
    "## Do your classes seem to be well-separated to cause instability in calculating logistic regression parameters"
   ]
  },
  {
   "cell_type": "markdown",
   "metadata": {},
   "source": [
    "# Ans. Yes they are very well seperated, which does cause  instability as they are less in number and not properly represented in each of the K-folds"
   ]
  },
  {
   "cell_type": "markdown",
   "metadata": {},
   "source": [
    "# vii \n",
    "\n",
    "## From the confusion matrices you obtained, do you see imbalanced classes?If yes, build a logistic regression model based on case-control sampling and adjust its parameters. Report the confusion matrix, ROC, and AUC of the model."
   ]
  },
  {
   "cell_type": "markdown",
   "metadata": {},
   "source": [
    "# Ans, Yes, there were imbalanced classes as seen on the confusion matrix, the error for bending was almost 3/8 i.e three out of 8 times are model predicted worng. \n",
    "\n",
    "\n",
    "# imblanaced learn from scikit learn "
   ]
  },
  {
   "cell_type": "code",
   "execution_count": 149,
   "metadata": {},
   "outputs": [
    {
     "name": "stderr",
     "output_type": "stream",
     "text": [
      "C:\\Users\\anmol\\newpython\\envs\\ulti\\lib\\site-packages\\sklearn\\utils\\validation.py:578: DataConversionWarning: A column-vector y was passed when a 1d array was expected. Please change the shape of y to (n_samples, ), for example using ravel().\n",
      "  y = column_or_1d(y, warn=True)\n"
     ]
    },
    {
     "name": "stdout",
     "output_type": "stream",
     "text": [
      "Accuracy after handling imbalanced classes 1.0\n",
      "the AUC for the given curve is  1.0\n",
      "[[8 0]\n",
      " [0 8]]\n"
     ]
    },
    {
     "data": {
      "image/png": "[encoded data removed]",
      "text/plain": [
       "<matplotlib.figure.Figure at 0x25ba9dceef0>"
      ]
     },
     "metadata": {},
     "output_type": "display_data"
    },
    {
     "data": {
      "text/plain": [
       "<ggplot: (-9223371874810081599)>"
      ]
     },
     "execution_count": 149,
     "metadata": {},
     "output_type": "execute_result"
    }
   ],
   "source": [
    "from collections import Counter\n",
    "from sklearn.svm import LinearSVC\n",
    "from sklearn.model_selection import train_test_split\n",
    "from imblearn.datasets import make_imbalance\n",
    "from imblearn.under_sampling import NearMiss\n",
    "from imblearn.pipeline import make_pipeline\n",
    "from imblearn.metrics import classification_report_imbalanced\n",
    "from sklearn.linear_model import LogisticRegression\n",
    "from imblearn.under_sampling import InstanceHardnessThreshold\n",
    "from ggplot import *\n",
    "from sklearn import metrics\n",
    "\n",
    "iht = InstanceHardnessThreshold(random_state=0,estimator=LogisticRegression())\n",
    "X_resampled, y_resampled = iht.fit_sample(new_train_data, xl_train_target)\n",
    "#print(sorted(Counter(y_resampled).items()))\n",
    "\n",
    "model_im = LogisticRegression(penalty = 'l2', C=1)\n",
    "model_im.fit(X_resampled,y_resampled)\n",
    "scoring = accuracy_score(y_resampled,model_im.predict(X_resampled))\n",
    "print(\"Accuracy after handling imbalanced classes\",scoring)\n",
    "\n",
    "\n",
    "\n",
    "X_train = X_resampled\n",
    "predicted2_val = model_im.predict_proba(X_train)\n",
    "predicted4_val = model_im.predict(X_train)\n",
    "#print(predicted2_val)\n",
    "fpr, tpr, _ = metrics.roc_curve(y_resampled, predicted2_val[:,1])\n",
    "df_c = pd.DataFrame(dict(fpr=fpr, tpr=tpr))\n",
    "print(\"the AUC for the given curve is \",metrics.auc(fpr,tpr))\n",
    "\n",
    "cm = confusion_matrix(y_resampled,predicted4_val)\n",
    "print(cm)\n",
    "\n",
    "\n",
    "ggplot(df_c, aes(x='fpr', y='tpr')) +\\\n",
    "    geom_line() +\\\n",
    "    geom_abline(linetype='dashed')   \n",
    "    "
   ]
  },
  {
   "cell_type": "markdown",
   "metadata": {},
   "source": [
    "# E Binary Classification using L-1 penalized logistic regression"
   ]
  },
  {
   "cell_type": "markdown",
   "metadata": {},
   "source": [
    "# i"
   ]
  },
  {
   "cell_type": "code",
   "execution_count": 43,
   "metadata": {},
   "outputs": [],
   "source": [
    "# Instead of using pvalues for variable selection, use L1 regularization. Note that in this problem \n",
    "# you have to cross-validate for both l, the number of time series into which you\n",
    "# break each of your instances, and C, the weight of L1 penalty in your logistic\n",
    "# regression objective function, Package : Liblinear\n",
    "\n",
    "def splitDataFrameIntoSmaller(df, chunkSize): \n",
    "    listOfDf = list()\n",
    "    numberChunks = len(df) // chunkSize + 1\n",
    "    for i in range(numberChunks):\n",
    "        listOfDf.append(df[i*chunkSize:(i+1)*chunkSize])\n",
    "        \n",
    "    return listOfDf\n",
    "\n",
    "bclx = train\n",
    "bcly = test\n",
    "\n",
    "bclx = bclx.replace(['bending1', 'bending2','cycling', 'lying', 'sitting', 'standing',\n",
    "       'walking'],['bending', 'bending', 'notbending'             , 'notbending', 'notbending', 'notbending',\n",
    "       'notbending'])\n",
    "\n",
    "bcly = bcly.replace(['bending1', 'bending2', 'cycling', 'lying', 'sitting', 'standing',\n",
    "       'walking'],['bending', 'bending', 'notbending', 'notbending', 'notbending', 'notbending',\n",
    "       'notbending'])\n",
    "\n",
    "setofnew  = []\n",
    "for travel in range(1,11):\n",
    "    setofold = [] \n",
    "    setofold = splitDataFrameIntoSmaller(bclx, (int(480/travel)) )\n",
    "    onetime = pd.DataFrame()\n",
    "    rowno = 0\n",
    "    for alldf in range(0,(len(setofold)-1)):\n",
    "        holder3_df = holder3_df[0:0]\n",
    "        holder3_df.loc[rowno,['target']] = setofold[alldf].iloc[0,6] \n",
    "        setofold[alldf] = setofold[alldf].drop(columns = ['target'])\n",
    "        holder3_df.loc[rowno,['avg_rss12_mean','var_rss12_mean','avg_rss13_mean','var_rss13_mean','avg_rss23_mean','var_rss23_mean']] = list(setofold[alldf].mean())\n",
    "        holder3_df.loc[rowno,['avg_rss12_minimum','var_rss12_minimum','avg_rss13_minimum','var_rss13_minimum','avg_rss23_minimum','var_rss23_minimum']] = list(setofold[alldf].quantile(.25))\n",
    "        holder3_df.loc[rowno,['avg_rss12_maximum','var_rss12_maximum','avg_rss13_maximum','var_rss13_maximum','avg_rss23_maximum','var_rss23_maximum']] = list(setofold[alldf].quantile(.75))\n",
    "        rowno = rowno + 1\n",
    "        onetime = onetime.append(holder3_df) \n",
    "    setofnew.append(onetime)\n",
    "\n",
    "    \n",
    "\n",
    "\n"
   ]
  },
  {
   "cell_type": "code",
   "execution_count": 284,
   "metadata": {},
   "outputs": [
    {
     "name": "stdout",
     "output_type": "stream",
     "text": [
      "[0.9417582417582417, 0.8970899470899469, 0.9215853658536585, 0.93010101010101, 0.9294117647058824, 0.9314664257753689, 0.925171821305842, 0.9264865783214408, 0.9301862050878572, 0.9279411764705883, 0.8978021978021978, 0.9111111111111111, 0.9213414634146341, 0.9336026936026937, 0.9294117647058824, 0.9190906353507978, 0.9210051546391753, 0.930156303092083, 0.930238657225282, 0.9397058823529413]\n"
     ]
    }
   ],
   "source": [
    "from sklearn.metrics import accuracy_score \n",
    "from sklearn.linear_model import LogisticRegressionCV\n",
    "import numpy as np\n",
    "from sklearn.model_selection import train_test_split\n",
    "from sklearn import datasets\n",
    "from sklearn import svm\n",
    "from sklearn.model_selection import KFold\n",
    "from sklearn.model_selection import cross_val_score\n",
    "from sklearn.utils import shuffle\n",
    "\n",
    "\n",
    "\n",
    "mean_score1 = []\n",
    "cs_score = []\n",
    "kf = KFold(n_splits=5)\n",
    "X_trains = pd.DataFrame()\n",
    "X_tests =  pd.DataFrame()\n",
    "X_trains_target = pd.DataFrame()\n",
    "X_trains_data = pd.DataFrame()\n",
    "X_tests_target = pd.DataFrame()\n",
    "X_tests_data = pd.DataFrame()\n",
    "\n",
    "for vals in setofnew:\n",
    "    valuess = shuffle(vals)\n",
    "    valuess = valuess.dropna() \n",
    "    gs =[]\n",
    "    cs =  []\n",
    "    kf.get_n_splits(valuess)\n",
    "    for train_index, test_index in kf.split(valuess):\n",
    "        X_trains = valuess.iloc[train_index]\n",
    "        X_tests =  valuess.iloc[test_index]\n",
    "        X_trains_target = X_trains['target']\n",
    "        X_trains = X_trains.drop(columns = 'target')\n",
    "        X_trains_data = X_trains\n",
    "        X_tests_target = X_tests['target']\n",
    "        X_tests = X_tests.drop(columns = 'target')\n",
    "        X_tests_data = X_tests\n",
    "        model_e = LogisticRegressionCV(penalty = 'l1', Cs=10, solver = 'liblinear' )\n",
    "        model_e.fit(X_trains_data,X_trains_target)\n",
    "        scoring = accuracy_score(X_tests_target,model_e.predict(X_tests_data))\n",
    "        cs = model_e.coef_\n",
    "        gs.append(scoring)\n",
    "    mean_score.append(np.mean(gs))\n",
    "    cs_score.append(cs)\n",
    "print(mean_score)"
   ]
  },
  {
   "cell_type": "code",
   "execution_count": 45,
   "metadata": {},
   "outputs": [
    {
     "name": "stdout",
     "output_type": "stream",
     "text": [
      "[array([[  0.441254  ,   0.3339788 ,   0.32192536,   6.25580457,\n",
      "         27.87553269,  -7.88323463,  -0.93096965,  -0.1590847 ,\n",
      "         -0.47863692,  -5.72355634,  -9.15187848, -12.64932529,\n",
      "         -0.30958207,  -0.5027141 ,  -0.617731  ,  24.75165489,\n",
      "          1.57427052,  -4.31465411]]), array([[ 0.1385805 ,  0.        ,  0.08087944,  0.        ,  0.75132103,\n",
      "         0.        ,  0.        ,  0.        ,  0.        ,  0.        ,\n",
      "         0.        ,  0.        ,  0.        ,  0.        , -0.41052547,\n",
      "         0.        ,  0.        ,  0.        ]]), array([[ -0.49507057,  -0.8391716 ,   1.72296782,  -3.67972289,\n",
      "         -0.28643385,  11.7367769 ,   0.76977732,   1.14251252,\n",
      "         -1.96488388,   5.80550247, -10.38933988,   0.        ,\n",
      "          0.        ,  -0.86894723,   0.03875481,   3.74155238,\n",
      "          7.66299752,  -7.45057461]]), array([[ 0.17270286,  0.        ,  0.03890653,  0.        ,  0.60660295,\n",
      "         0.        ,  0.        ,  0.        ,  0.        ,  0.        ,\n",
      "         0.        ,  0.        , -0.10463845, -0.269135  , -0.00256311,\n",
      "         0.        ,  0.29399984,  0.        ]]), array([[ 0.45185612,  0.88387991, -1.13191877,  2.11637547, -2.67745065,\n",
      "         4.8765732 ,  0.27012718,  0.09003499, -0.41728626,  4.87024446,\n",
      "         0.26936084, -4.83607067, -0.47150159, -0.60877395,  0.50456929,\n",
      "         5.26340977, -1.83760677,  0.        ]]), array([[ 0.23499794,  0.09603796, -0.11389264,  1.39123686,  0.        ,\n",
      "         0.21488227, -0.07474292,  0.11140634, -0.02209793,  4.38717177,\n",
      "         0.        , -3.30506246,  0.23931908, -0.09494803, -0.61179747,\n",
      "         2.19454988,  0.        ,  0.        ]]), array([[ 0.00028479,  0.21453373,  0.        ,  0.        ,  0.28324577,\n",
      "         0.        ,  0.        ,  0.        ,  0.        ,  0.        ,\n",
      "         0.        ,  0.        ,  0.        , -0.2554011 , -0.1088237 ,\n",
      "         0.        ,  0.        ,  0.        ]]), array([[ 0.15678812, -0.03493939,  0.06640853,  1.86238413, -0.54057207,\n",
      "         0.83136187,  0.        ,  0.0331911 , -0.04973826,  2.10400498,\n",
      "        -0.9103157 ,  0.        ,  0.31365294, -0.01685089, -0.7500814 ,\n",
      "         1.23829276,  0.        ,  0.        ]]), array([[ 0.36778857,  0.27828098, -0.42653897,  0.82460843, -0.61995101,\n",
      "         3.17208208,  0.18420011,  0.37790425, -0.58785105,  1.93580372,\n",
      "         0.        , -2.14515385,  0.17546086, -0.37820617, -0.31412581,\n",
      "         1.94603074, -4.79445514,  5.6003386 ]]), array([[-0.09669555, -0.00613676,  0.29381356,  2.58472521,  0.8919623 ,\n",
      "        -0.68444331,  0.420426  ,  0.36576222, -0.82545042,  2.09269268,\n",
      "         1.348569  , -4.8291703 ,  0.5721061 ,  0.40312382, -1.46364295,\n",
      "         2.59129416, -0.54287557,  0.92168818]])]\n"
     ]
    }
   ],
   "source": [
    "print(cs_score)"
   ]
  },
  {
   "cell_type": "markdown",
   "metadata": {},
   "source": [
    "## From the above it was found that L = 1 the best mean of accuracy was found and after L1 selection we will choose features bases on C values\n",
    "## . Values to be selected 1,2,3,5,7,8,14. and dropping 4,6,9,10,11,12,13,15,16,17,18"
   ]
  },
  {
   "cell_type": "code",
   "execution_count": 263,
   "metadata": {},
   "outputs": [
    {
     "name": "stdout",
     "output_type": "stream",
     "text": [
      "1.0\n"
     ]
    }
   ],
   "source": [
    "holder_cv = pd.DataFrame()\n",
    "holder_cv = setofnew[0]\n",
    "holder_cv = holder_cv.dropna()\n",
    "holder_cv = holder_cv.replace(['bending','notbending'],[1,0])\n",
    "# Training the model usind the obtained features. \n",
    "new_trains_data = pd.DataFrame()\n",
    "new_trains_data = holder_cv.drop(columns = ['var_rss12_mean','avg_rss13_mean','var_rss13_mean','avg_rss23_mean','var_rss23_mean','var_rss12_minimum','var_rss13_minimum','avg_rss23_minimum','var_rss23_minimum','var_rss13_maximum','var_rss23_maximum'])\n",
    "model_e.fit(new_trains_data,holder_cv['target'])\n",
    "predicted_vals = model_e.predict(new_trains_data)\n",
    "scores= accuracy_score(holder_cv['target'],predicted_vals)\n",
    "score1 = .8532\n",
    "print(scores)"
   ]
  },
  {
   "cell_type": "markdown",
   "metadata": {},
   "source": [
    "# Best Value for this model was =  L1 regulization used for parameeter selection  and the accuracy was 100 %"
   ]
  },
  {
   "cell_type": "markdown",
   "metadata": {},
   "source": [
    "# ii"
   ]
  },
  {
   "cell_type": "markdown",
   "metadata": {
    "collapsed": true
   },
   "source": [
    "## Ans. L1 penalized model perfomrs better than p-value based selection. It gives 100 % accuracy as compared to 94% accuracy obtained from P value selection. L-1 was comparatively easier to implment as the feature selection happens automatically by the model. The coefficients of non significant features was brought down to zero and the rest were chosen for modelling in the next iteration."
   ]
  },
  {
   "cell_type": "markdown",
   "metadata": {},
   "source": [
    "# F.\n",
    "\n",
    "## i. Multi Class Classification"
   ]
  },
  {
   "cell_type": "markdown",
   "metadata": {},
   "source": [
    "# The best L was 1"
   ]
  },
  {
   "cell_type": "code",
   "execution_count": 238,
   "metadata": {},
   "outputs": [
    {
     "name": "stdout",
     "output_type": "stream",
     "text": [
      "Test score with L1 penalty on a entire train set: 0.8382\n",
      "Test error with L1 penalty for entire train set: 0.1618\n",
      "[[ 5  0  0  0  0  0  0]\n",
      " [ 0  2  1  0  1  0  0]\n",
      " [ 0  0 10  2  0  0  0]\n",
      " [ 0  0  0 11  0  1  0]\n",
      " [ 0  0  0  2  9  1  0]\n",
      " [ 0  0  0  0  2  9  1]\n",
      " [ 0  0  0  0  0  0 11]]\n"
     ]
    },
    {
     "name": "stderr",
     "output_type": "stream",
     "text": [
      "C:\\Users\\anmol\\newpython\\envs\\ulti\\lib\\site-packages\\sklearn\\utils\\validation.py:578: DataConversionWarning: A column-vector y was passed when a 1d array was expected. Please change the shape of y to (n_samples, ), for example using ravel().\n",
      "  y = column_or_1d(y, warn=True)\n"
     ]
    }
   ],
   "source": [
    "from sklearn.preprocessing import StandardScaler\n",
    "from sklearn.utils import check_random_state\n",
    "from sklearn import linear_model\n",
    "\n",
    "\n",
    "m_dfd = pd.DataFrame()\n",
    "m_dft = pd.DataFrame()\n",
    "b[0] = b[0].dropna()\n",
    "m_dft[\"target\"] = b[0]['target']\n",
    "m_dfd = b[0].drop(columns = ['target'])\n",
    "\n",
    "m_dft[0:5] = m_dft[0:5].replace([\"bending\"],[\"bending1\"])\n",
    "m_dft[5:9] = m_dft[5:19].replace([\"bending\",\"notbending\"],[\"bending2\",\"bending2\"])\n",
    "m_dft[9:21] = m_dft[9:21].replace([\"notbending\"],[\"cycling\"])\n",
    "m_dft[21:33] = m_dft[21:33].replace([\"notbending\"],[\"lying\"])\n",
    "m_dft[33:45] = m_dft[33:45].replace([\"notbending\"],[\"sitting\"])\n",
    "m_dft[45:57] = m_dft[45:57].replace([\"notbending\"],[\"standing\"])\n",
    "m_dft[57:69] = m_dft[57:69].replace([\"notbending\"],[\"walking\"])\n",
    "\n",
    "Xf = m_dfd\n",
    "Yf = m_dft\n",
    "train_samples = 67\n",
    "\n",
    "\n",
    "Xf_train, Xf_test, Yf_train, Yf_test = train_test_split(Xf, Yf,train_size = train_samples, test_size=1)\n",
    "\n",
    "scaler = StandardScaler()\n",
    "Xf_train = scaler.fit_transform(Xf_train)\n",
    "Xf_test = scaler.transform(Xf_test)\n",
    "Xf_entire = scaler.transform(Xf)\n",
    "\n",
    "# Turn up tolerance for faster convergence\n",
    "clf = LogisticRegression(C=50. / train_samples,multi_class='multinomial',penalty='l1', solver='saga', tol=0.1)\n",
    "clf.fit(Xf_train, Yf_train)\n",
    "\n",
    "\n",
    "score = clf.score(Xf_entire,Yf)\n",
    "print(\"Test score with L1 penalty on a entire train set: %.4f\" % score)\n",
    "print(\"Test error with L1 penalty for entire train set: %.4f\" % (1-score))\n",
    "\n",
    "\n",
    "\n",
    "from sklearn.metrics import confusion_matrix\n",
    "predicted_val = clf.predict(Xf_entire)\n",
    "cm = confusion_matrix(Yf,predicted_val)\n",
    "print(cm)\n",
    "\n",
    "\n",
    "\n",
    "\n",
    "\n"
   ]
  },
  {
   "cell_type": "code",
   "execution_count": 239,
   "metadata": {
    "scrolled": false
   },
   "outputs": [
    {
     "data": {
      "image/png": "[encoded data removed]",
      "text/plain": [
       "<matplotlib.figure.Figure at 0x25bab381128>"
      ]
     },
     "metadata": {},
     "output_type": "display_data"
    }
   ],
   "source": [
    "from sklearn.preprocessing import label_binarize\n",
    "\n",
    "binarized_target = label_binarize(Yf['target'],classes = np.unique(Yf['target'].values))\n",
    "\n",
    "t_pred = clf.decision_function(Xf_entire)\n",
    "label_no = list(set(Yf['target']))\n",
    "# print(len(label_no))\n",
    "# print(binarized_target, t_pred)\n",
    "for label in range(len(label_no)):\n",
    "    #print(label)\n",
    "    fpr, tpr, _ = metrics.roc_curve(binarized_target[:, label],t_pred[:, label])\n",
    "    plt.plot(fpr,tpr)"
   ]
  },
  {
   "cell_type": "markdown",
   "metadata": {},
   "source": [
    "# ii  Na¨ıve Bayes’ classiﬁer"
   ]
  },
  {
   "cell_type": "code",
   "execution_count": 264,
   "metadata": {},
   "outputs": [
    {
     "name": "stdout",
     "output_type": "stream",
     "text": [
      "Test score with L1 penalty on a entire train set: 0.8532\n",
      "Test error with L1 penalty for entire train set: 0.1468\n"
     ]
    },
    {
     "name": "stderr",
     "output_type": "stream",
     "text": [
      "C:\\Users\\anmol\\newpython\\envs\\ulti\\lib\\site-packages\\sklearn\\utils\\validation.py:578: DataConversionWarning: A column-vector y was passed when a 1d array was expected. Please change the shape of y to (n_samples, ), for example using ravel().\n",
      "  y = column_or_1d(y, warn=True)\n"
     ]
    },
    {
     "data": {
      "image/png": "[encoded data removed]",
      "text/plain": [
       "<matplotlib.figure.Figure at 0x25bac790828>"
      ]
     },
     "metadata": {},
     "output_type": "display_data"
    }
   ],
   "source": [
    "# Using GaussianNB\n",
    "from sklearn.naive_bayes import MultinomialNB\n",
    "from sklearn.metrics import mean_squared_error\n",
    "from sklearn import preprocessing\n",
    "\n",
    "from sklearn.preprocessing import label_binarize\n",
    "\n",
    "binarized_target = label_binarize(Yf['target'],classes = np.unique(Yf['target'].values))\n",
    "\n",
    "t_pred = mnb.predict_proba(Xf_entire)\n",
    "label_no = list(set(Yf['target']))\n",
    "for label in range(len(label_no)):\n",
    "    fpr, tpr, _ = metrics.roc_curve(binarized_target[:, label],t_pred[:, label])\n",
    "    plt.plot(fpr,tpr)\n",
    "gnb = GaussianNB()\n",
    "gnb.fit(Xf,Yf).predict(Xf)\n",
    "print(\"Test score with L1 penalty on a entire train set: %.4f\" % score1)\n",
    "print(\"Test error with L1 penalty for entire train set: %.4f\" % (1-score1))"
   ]
  },
  {
   "cell_type": "code",
   "execution_count": 254,
   "metadata": {},
   "outputs": [
    {
     "name": "stdout",
     "output_type": "stream",
     "text": [
      "Test score with L1 penalty on a entire train set: 0.8382\n",
      "Test error with L1 penalty for entire train set: 0.1618\n"
     ]
    },
    {
     "name": "stderr",
     "output_type": "stream",
     "text": [
      "C:\\Users\\anmol\\newpython\\envs\\ulti\\lib\\site-packages\\sklearn\\utils\\validation.py:578: DataConversionWarning: A column-vector y was passed when a 1d array was expected. Please change the shape of y to (n_samples, ), for example using ravel().\n",
      "  y = column_or_1d(y, warn=True)\n"
     ]
    },
    {
     "data": {
      "image/png": "[encoded data removed]",
      "text/plain": [
       "<matplotlib.figure.Figure at 0x25bac686518>"
      ]
     },
     "metadata": {},
     "output_type": "display_data"
    }
   ],
   "source": [
    "# Using Multinomial\n",
    "from sklearn.naive_bayes import MultinomialNB\n",
    "from sklearn.metrics import mean_squared_error\n",
    "from sklearn import preprocessing\n",
    "\n",
    "\n",
    "mnb = MultinomialNB()\n",
    "mnb.fit(Xf,Yf).predict(Xf)\n",
    "print(\"Test score with L1 penalty on a entire train set: %.4f\" % score)\n",
    "print(\"Test error with L1 penalty for entire train set: %.4f\" % (1-score))\n",
    "from sklearn.preprocessing import label_binarize\n",
    "\n",
    "binarized_target = label_binarize(Yf['target'],classes = np.unique(Yf['target'].values))\n",
    "\n",
    "t_pred = mnb.predict_proba(Xf_entire)\n",
    "label_no = list(set(Yf['target']))\n",
    "for label in range(len(label_no)):\n",
    "    fpr, tpr, _ = metrics.roc_curve(binarized_target[:, label],t_pred[:, label])\n",
    "    plt.plot(fpr,tpr)"
   ]
  },
  {
   "cell_type": "markdown",
   "metadata": {},
   "source": [
    "# iii"
   ]
  },
  {
   "cell_type": "markdown",
   "metadata": {
    "collapsed": true
   },
   "source": [
    "## Ans: Gausian model was better than Multinomial Naive Baye's classifier. It can been clearly seen from the significant differnce in the test accuracy"
   ]
  },
  {
   "cell_type": "markdown",
   "metadata": {},
   "source": [
    "# ISLR"
   ]
  },
  {
   "cell_type": "markdown",
   "metadata": {},
   "source": [
    "#  2 ISLR 3.7.4"
   ]
  },
  {
   "cell_type": "markdown",
   "metadata": {},
   "source": [
    "# QUESTION : \n",
    "\n",
    "(b) Answer (a) using test rather than training RSS.\n",
    "(c) Suppose that the true relationship between X and Y is not linear,\n",
    "but we don’t know how far it is from linear. Consider the training\n",
    "RSS for the linear regression, and also the training RSS for the\n",
    "cubic regression. Would we expect one to be lower than the\n",
    "other, would we expect them to be the same, or is there not\n",
    "enough information to tell? Justify your answer.\n",
    "(d) Answer (c) using test rather than training RSS."
   ]
  },
  {
   "cell_type": "markdown",
   "metadata": {},
   "source": [
    "# ANSWER:\n",
    "\n",
    "(a) The cubic regresssion would ideally have a lower training rss, tighter fit and wider reducible error than a linear fit, but since in this case the degree of linearity has not been mentioned it is difficult to predict, but the linear training rss can never be lower than a polynomial training rss.\n",
    "\n",
    "(b)But in a situation of a tight fit,  I would expect the polynomial regression to have a higher\n",
    "test RSS as the overfit from training would have more error than the linear\n",
    "regression.\n",
    "\n",
    "(c) Polynomial regression has lower train RSS than the linear fit because of\n",
    "higher flexibility: no matter what the underlying true relationship is the\n",
    "more flexible model will closer follow points and reduce train RSS.\n",
    "\n",
    "(d) There is not enough information to tell which test RSS would be lower\n",
    "for either regression given that the level of linearity is not given.\n",
    "\n",
    "If it is closer to linear than cubic, the linear\n",
    "regression test RSS could be lower than the cubic regression test RSS.\n",
    "Or, if it is closer to cubic than linear, the cubic regression test RSS\n",
    "could be lower than the linear regression test RSS.\n",
    "It is dues to bias-variance tradeoff: it is not clear what level of flexibility will\n",
    "fit data better."
   ]
  },
  {
   "cell_type": "markdown",
   "metadata": {},
   "source": [
    "# 3 ISLR 4.7.3"
   ]
  },
  {
   "cell_type": "markdown",
   "metadata": {},
   "source": [
    "# QUESTION :\n",
    "\n",
    "3. This problem relates to the QDA model, in which the observations\n",
    "\n",
    "within each class are drawn from a normal distribution with a class-\n",
    "specific mean vector and a class specific covariance matrix. We con-\n",
    "sider the simple case where p = 1; i.e. there is only one feature.\n",
    "\n",
    "Suppose that we have K classes, and that if an observation belongs\n",
    "\n",
    "to the kth class then X comes from a one-dimensional normal dis-\n",
    "tribution, X ∼ N(μk, σ2\n",
    "\n",
    "k). Recall that the density function for the\n",
    "one-dimensional normal distribution is given in (4.11). Prove that in\n",
    "this case, the Bayes’ classifier is not linear. Argue that it is in fact\n",
    "quadratic.\n",
    "Hint: For this problem, you should follow the arguments laid out in\n",
    "Section 4.4.2, but without making the assumption that σ2\n",
    "1 = ... = σ2\n",
    "K."
   ]
  },
  {
   "cell_type": "markdown",
   "metadata": {},
   "source": [
    "# ANSWER\n",
    "\n",
    "![title](img/ans2.jpg)"
   ]
  },
  {
   "cell_type": "markdown",
   "metadata": {},
   "source": [
    "# 4 ISLR 4.7.7"
   ]
  },
  {
   "cell_type": "markdown",
   "metadata": {},
   "source": [
    "# QUESTION:\n",
    "\n",
    "\n",
    "7. Suppose that we wish to predict whether a given stock will issue a\n",
    "dividend this year (“Yes” or “No”) based on X, last year’s percent\n",
    "profit. We examine a large number of companies and discover that the\n",
    "mean value of X for companies that issued a dividend was X ̄ = 10,\n",
    "while the mean for those that didn’t was X ̄ = 0. In addition, the\n",
    "variance of X for these two sets of companies was ˆσ2 = 36. Finally,\n",
    "\n",
    "80 % of companies issued dividends. Assuming that X follows a nor-\n",
    "mal distribution, predict the probability that a company will issue\n",
    "\n",
    "a dividend this year given that its percentage profit was X = 4 last\n",
    "year.\n",
    "Hint: Recall that the density function for a normal random variable\n",
    "is f(x) = √\n",
    "1\n",
    "2πσ2 e−(x−μ)2/2σ2\n",
    "\n",
    ". You will need to use Bayes’ theorem."
   ]
  },
  {
   "cell_type": "markdown",
   "metadata": {},
   "source": [
    "# ANSWER\n",
    "\n",
    "![title](img/ans3.jpg)"
   ]
  }
 ],
 "metadata": {
  "kernelspec": {
   "display_name": "Python 3",
   "language": "python",
   "name": "python3"
  },
  "language_info": {
   "codemirror_mode": {
    "name": "ipython",
    "version": 3
   },
   "file_extension": ".py",
   "mimetype": "text/x-python",
   "name": "python",
   "nbconvert_exporter": "python",
   "pygments_lexer": "ipython3",
   "version": "3.6.4"
  }
 },
 "nbformat": 4,
 "nbformat_minor": 2
}
